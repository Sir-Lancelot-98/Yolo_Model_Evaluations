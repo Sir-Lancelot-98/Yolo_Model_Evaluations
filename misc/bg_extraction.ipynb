{
 "cells": [
  {
   "cell_type": "code",
   "execution_count": 3,
   "metadata": {},
   "outputs": [],
   "source": [
    "import os\n",
    "import shutil\n",
    "\n",
    "def move_images_without_labels(images_dir, labels_dir, bg_dir):\n",
    "    # Create BG directory if it doesn't exist\n",
    "    if not os.path.exists(bg_dir):\n",
    "        os.makedirs(bg_dir)\n",
    "    \n",
    "    # Go through all subfolders inside images directory\n",
    "    for subdir, _, files in os.walk(images_dir):\n",
    "        # Get the corresponding label directory name\n",
    "        subfolder_name = os.path.basename(subdir)\n",
    "        labels_subdir = os.path.join(labels_dir, subfolder_name)\n",
    "        \n",
    "        if os.path.exists(labels_subdir):\n",
    "            # Go through all image files in the current subfolder\n",
    "            for file_name in files:\n",
    "                if file_name.endswith(('.jpg', '.jpeg', '.png')):  # Assuming images are in these formats\n",
    "                    image_path = os.path.join(subdir, file_name)\n",
    "                    image_name, _ = os.path.splitext(file_name)\n",
    "                    label_file = os.path.join(labels_subdir, f\"{image_name}.txt\")\n",
    "                    \n",
    "                    # If the corresponding label file doesn't exist, move the image to BG\n",
    "                    if not os.path.exists(label_file):\n",
    "                        # Move the image to BG folder\n",
    "                        shutil.move(image_path, os.path.join(bg_dir, file_name))\n",
    "                        print(f\"Moved {file_name} to {bg_dir}\")\n",
    "\n",
    "# Directories\n",
    "images_dir = r\"D:\\Akash\\Work\\AI\\Dataset_research\\tc05\\2024_10_tc5_dataset_02\\LOCO\\images\"\n",
    "labels_dir = r\"D:\\Akash\\Work\\AI\\Dataset_research\\tc05\\2024_10_tc5_dataset_02\\LOCO\\labels\"\n",
    "bg_dir = r\"D:\\Akash\\Work\\AI\\Dataset_research\\tc05\\2024_10_tc5_dataset_02\\LOCO\\BG\"\n",
    "\n",
    "# Call the function\n",
    "move_images_without_labels(images_dir, labels_dir, bg_dir)\n"
   ]
  },
  {
   "cell_type": "markdown",
   "metadata": {},
   "source": [
    "# Delete discards"
   ]
  },
  {
   "cell_type": "code",
   "execution_count": null,
   "metadata": {},
   "outputs": [],
   "source": [
    "import os\n",
    "import shutil\n",
    "from pathlib import Path\n",
    "\n",
    "def move_unlabeled_images(root_folder):\n",
    "    \"\"\"\n",
    "    Traverse the root directory recursively until reaching `images` and `labels` folders.\n",
    "    Move images without corresponding labels to a common `_discard` folder under the root.\n",
    "    \"\"\"\n",
    "    discard_path = Path(root_folder) / \"_discard\"\n",
    "    discard_path.mkdir(exist_ok=True)\n",
    "    \n",
    "    for subdir, _, _ in os.walk(root_folder):\n",
    "        images_path = Path(subdir) / \"images\"\n",
    "        labels_path = Path(subdir) / \"labels\"\n",
    "\n",
    "        if images_path.exists() and labels_path.exists():\n",
    "            for image_file in images_path.glob(\"*.jpg\"):  # Adjust the extension if needed\n",
    "                label_file = labels_path / f\"{image_file.stem}.txt\"\n",
    "                if not label_file.exists():\n",
    "                    shutil.move(str(image_file), str(discard_path / image_file.name))\n",
    "                    print(f\"Moved: {image_file} -> {discard_path / image_file.name}\")\n",
    "\n",
    "root_folder = \"path/to/root/folder\"  # Change this to your root directory\n",
    "move_unlabeled_images(root_folder)\n"
   ]
  },
  {
   "cell_type": "markdown",
   "metadata": {},
   "source": [
    "# delete discard folder"
   ]
  },
  {
   "cell_type": "code",
   "execution_count": 3,
   "metadata": {},
   "outputs": [
    {
     "name": "stdout",
     "output_type": "stream",
     "text": [
      "Deleted folder: Z:\\AI\\data\\_test_data\\評価データ作成_202501\\定性評価\\fiftyone\\data\\v360\\v360_test5\\rightdown\\_discard\n"
     ]
    }
   ],
   "source": [
    "import os\n",
    "import shutil\n",
    "from pathlib import Path\n",
    "\n",
    "def delete_discard_folders(root_folder):\n",
    "    \"\"\"\n",
    "    Traverse the root directory and delete any `_discard` folders found.\n",
    "    \"\"\"\n",
    "    for subdir, dirs, _ in os.walk(root_folder):\n",
    "        for d in dirs:\n",
    "            if d == \"_discard\":\n",
    "                discard_folder = Path(subdir) / d\n",
    "                # shutil.rmtree(discard_folder)\n",
    "                print(f\"Deleted folder: {discard_folder}\")\n",
    "\n",
    "root_folder = r\"Z:\\AI\\data\\_test_data\\評価データ作成_202501\\定性評価\\fiftyone\\data\\v360\"  # Change this to your root directory\n",
    "delete_discard_folders(root_folder)"
   ]
  }
 ],
 "metadata": {
  "kernelspec": {
   "display_name": "evaluation",
   "language": "python",
   "name": "python3"
  },
  "language_info": {
   "codemirror_mode": {
    "name": "ipython",
    "version": 3
   },
   "file_extension": ".py",
   "mimetype": "text/x-python",
   "name": "python",
   "nbconvert_exporter": "python",
   "pygments_lexer": "ipython3",
   "version": "3.8.10"
  }
 },
 "nbformat": 4,
 "nbformat_minor": 2
}
