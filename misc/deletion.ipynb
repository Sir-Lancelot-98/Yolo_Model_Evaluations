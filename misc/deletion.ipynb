{
 "cells": [
  {
   "cell_type": "code",
   "execution_count": 1,
   "metadata": {},
   "outputs": [
    {
     "name": "stdout",
     "output_type": "stream",
     "text": [
      "Deleted: \\\\wsl.localhost\\Debian\\home\\akashanil\\Projects\\yolov5_hyouka\\test_datasets\\old\\ケースごと\\座っているポーズ\\img+tags\n",
      "Deleted: \\\\wsl.localhost\\Debian\\home\\akashanil\\Projects\\yolov5_hyouka\\test_datasets\\old\\ケースごと\\特徴がよくみえない画像\\img+tags\n",
      "Deleted: \\\\wsl.localhost\\Debian\\home\\akashanil\\Projects\\yolov5_hyouka\\test_datasets\\old\\ケースごと\\体の部分\\img+tags\n",
      "Deleted: \\\\wsl.localhost\\Debian\\home\\akashanil\\Projects\\yolov5_hyouka\\test_datasets\\old\\ケースごと\\背景\\img+tags\n",
      "Deleted: \\\\wsl.localhost\\Debian\\home\\akashanil\\Projects\\yolov5_hyouka\\test_datasets\\old\\ケースごと\\運転している\\img+tags\n",
      "Deleted: \\\\wsl.localhost\\Debian\\home\\akashanil\\Projects\\yolov5_hyouka\\test_datasets\\old\\ケースごと\\遮蔽されている人\\img+tags\n",
      "Deleted: \\\\wsl.localhost\\Debian\\home\\akashanil\\Projects\\yolov5_hyouka\\test_datasets\\old\\ケースごと\\ぼやけされている人\\img+tags\n",
      "Deleted: \\\\wsl.localhost\\Debian\\home\\akashanil\\Projects\\yolov5_hyouka\\test_datasets\\old\\ケースごと\\顔が見えない運転者の画像\\img+tags\n",
      "Deleted: \\\\wsl.localhost\\Debian\\home\\akashanil\\Projects\\yolov5_hyouka\\test_datasets\\old\\ケースごと\\箱を持っている·運んでいるポーズ\\img+tags\n",
      "Deleted: \\\\wsl.localhost\\Debian\\home\\akashanil\\Projects\\yolov5_hyouka\\test_datasets\\old\\ケースごと\\立っているポーズ\\img+tags\n",
      "Deleted: \\\\wsl.localhost\\Debian\\home\\akashanil\\Projects\\yolov5_hyouka\\test_datasets\\old\\ケースごと\\屈んでいるポーズ\\img+tags\n"
     ]
    }
   ],
   "source": [
    "import os\n",
    "import shutil\n",
    "\n",
    "def delete_folders(folder_name, root_folder):\n",
    "    # Walk through the directory tree\n",
    "    for dirpath, dirnames, filenames in os.walk(root_folder, topdown=False):\n",
    "        # Check for the folder to delete\n",
    "        if folder_name in dirnames:\n",
    "            folder_to_delete = os.path.join(dirpath, folder_name)\n",
    "            shutil.rmtree(folder_to_delete)  # Delete the folder and its contents\n",
    "            print(f\"Deleted: {folder_to_delete}\")\n",
    "\n",
    "# Specify the root folder and folder name to delete\n",
    "root_folder = r'\\\\wsl.localhost\\Debian\\home\\akashanil\\Projects\\yolov5_hyouka\\test_datasets\\old\\ケースごと'  # Change to your root folder\n",
    "folder_name = 'img+tags'\n",
    "\n",
    "# Start the deletion process\n",
    "delete_folders(folder_name, root_folder)\n"
   ]
  },
  {
   "cell_type": "code",
   "execution_count": 1,
   "metadata": {},
   "outputs": [
    {
     "name": "stdout",
     "output_type": "stream",
     "text": [
      "Processing file: D:\\Akash\\Work\\AI\\excels\\temp_v360\\confidence_F1_curve_V360.xlsx\n",
      "Processed: D:\\Akash\\Work\\AI\\excels\\temp_v360\\confidence_F1_curve_V360.xlsx\n",
      "Processing file: D:\\Akash\\Work\\AI\\excels\\temp_v360\\confidence_precision_curve_V360.xlsx\n",
      "Processed: D:\\Akash\\Work\\AI\\excels\\temp_v360\\confidence_precision_curve_V360.xlsx\n",
      "Processing file: D:\\Akash\\Work\\AI\\excels\\temp_v360\\confidence_recall_V360.xlsx\n",
      "Processed: D:\\Akash\\Work\\AI\\excels\\temp_v360\\confidence_recall_V360.xlsx\n",
      "Processing file: D:\\Akash\\Work\\AI\\excels\\temp_v360\\IOU_AP_V360.xlsx\n",
      "Processed: D:\\Akash\\Work\\AI\\excels\\temp_v360\\IOU_AP_V360.xlsx\n",
      "Processing file: D:\\Akash\\Work\\AI\\excels\\temp_v360\\precision_recall_V360.xlsx\n",
      "Processed: D:\\Akash\\Work\\AI\\excels\\temp_v360\\precision_recall_V360.xlsx\n"
     ]
    }
   ],
   "source": [
    "import os\n",
    "from openpyxl import load_workbook\n",
    "\n",
    "def clear_except_first_column(root_folder):\n",
    "    \"\"\"\n",
    "    Clears all data except the first column in all Excel files under the root folder.\n",
    "    :param root_folder: Path to the root folder containing Excel files.\n",
    "    \"\"\"\n",
    "    for dirpath, dirnames, filenames in os.walk(root_folder):\n",
    "        for filename in filenames:\n",
    "            if filename.endswith(\".xlsx\"):\n",
    "                file_path = os.path.join(dirpath, filename)\n",
    "                print(f\"Processing file: {file_path}\")\n",
    "                \n",
    "                try:\n",
    "                    workbook = load_workbook(file_path)\n",
    "                    for sheet_name in workbook.sheetnames:\n",
    "                        sheet = workbook[sheet_name]\n",
    "                        max_row = sheet.max_row\n",
    "                        max_column = sheet.max_column\n",
    "\n",
    "                        for row in range(1, max_row + 1):\n",
    "                            for col in range(2, max_column + 1):\n",
    "                                sheet.cell(row=row, column=col).value = None\n",
    "                    workbook.save(file_path)\n",
    "                    print(f\"Processed: {file_path}\")\n",
    "                except Exception as e:\n",
    "                    print(f\"Error processing {file_path}: {e}\")\n",
    "\n",
    "# Example usage\n",
    "root_folder_path = r'D:\\Akash\\Work\\AI\\excels\\temp_v360'\n",
    "clear_except_first_column(root_folder_path)\n"
   ]
  },
  {
   "cell_type": "code",
   "execution_count": 5,
   "metadata": {},
   "outputs": [
    {
     "name": "stdout",
     "output_type": "stream",
     "text": [
      "['ぼやけされている人', '体の部分', '屈んでいるポーズ', '座っているポーズ', '特徴がよくみえない画像', '立っているポーズ', '箱を持っている·運んでいるポーズ', '結合データセット', '運転している', '遮蔽されている人', '顔が見えない運転者の画像']\n",
      "\\\\10.0.20.60\\share\\AI\\research_2023-\\FT\\_F1_curve_results\\2025_yolov8\\mix評価用データセット\\mix_test_dataset\n"
     ]
    }
   ],
   "source": [
    "import os\n",
    "\n",
    "# Define the location where folders will be created\n",
    "base_location_custom = r\"\\\\10.0.20.60\\share\\AI\\research_2023-\\FT\\_F1_curve_results\\2025_yolov8\\mix評価用データセット\\mix_test_dataset\"\n",
    "\n",
    "# Define the folder names as provided\n",
    "folder_names_japanese = [\n",
    "    \"ぼやけされている人\",\n",
    "    \"座っているポーズ\",\n",
    "    \"箱を持っている·運んでいるポーズ\",\n",
    "    \"遮蔽されている人\",\n",
    "    \"体の部分\",\n",
    "    \"特徴がよくみえない画像\",\n",
    "    \"結合データセット\",\n",
    "    \"顔が見えない運転者の画像\",\n",
    "    \"屈んでいるポーズ\",\n",
    "    \"立っているポーズ\",\n",
    "    \"運転している\"\n",
    "]\n",
    "\n",
    "# Create the base directory if it doesn't exist\n",
    "os.makedirs(base_location_custom, exist_ok=True)\n",
    "\n",
    "# Create each folder\n",
    "for folder_name in folder_names_japanese:\n",
    "    folder_path = os.path.join(base_location_custom, folder_name)\n",
    "    os.makedirs(folder_path, exist_ok=True)\n",
    "\n",
    "# Display the created folder structure\n",
    "created_folders = os.listdir(base_location_custom)\n",
    "created_folders\n",
    "\n",
    "print(os.listdir(base_location_custom))\n",
    "print(base_location_custom)\n"
   ]
  }
 ],
 "metadata": {
  "kernelspec": {
   "display_name": "evaluation",
   "language": "python",
   "name": "python3"
  },
  "language_info": {
   "codemirror_mode": {
    "name": "ipython",
    "version": 3
   },
   "file_extension": ".py",
   "mimetype": "text/x-python",
   "name": "python",
   "nbconvert_exporter": "python",
   "pygments_lexer": "ipython3",
   "version": "3.8.10"
  }
 },
 "nbformat": 4,
 "nbformat_minor": 2
}
