{
 "cells": [
  {
   "cell_type": "code",
   "execution_count": 3,
   "metadata": {},
   "outputs": [
    {
     "name": "stdout",
     "output_type": "stream",
     "text": [
      "All images moved to the root folder, and subdirectories deleted.\n"
     ]
    }
   ],
   "source": [
    "import os\n",
    "import shutil\n",
    "\n",
    "# Set the root folder\n",
    "root_folder = r\"D:\\Akash\\Work\\AI\\2025\\TC_2\\similarity_data\"\n",
    "\n",
    "# Loop through all subdirectories\n",
    "for subdir, dirs, files in os.walk(root_folder):\n",
    "    if subdir == root_folder:\n",
    "        continue  # Skip the root folder itself\n",
    "\n",
    "    for file in files:\n",
    "        file_path = os.path.join(subdir, file)\n",
    "        new_path = os.path.join(root_folder, file)\n",
    "\n",
    "        # Handle duplicate filenames by renaming\n",
    "        if os.path.exists(new_path):\n",
    "            base, ext = os.path.splitext(file)\n",
    "            counter = 1\n",
    "            while os.path.exists(new_path):\n",
    "                new_path = os.path.join(root_folder, f\"{base}_{counter}{ext}\")\n",
    "                counter += 1\n",
    "\n",
    "        shutil.move(file_path, new_path)\n",
    "\n",
    "# Remove empty subdirectories\n",
    "for subdir, dirs, files in os.walk(root_folder, topdown=False):\n",
    "    if subdir != root_folder and not os.listdir(subdir):\n",
    "        os.rmdir(subdir)\n",
    "\n",
    "print(\"All images moved to the root folder, and subdirectories deleted.\")\n"
   ]
  }
 ],
 "metadata": {
  "kernelspec": {
   "display_name": "evaluation",
   "language": "python",
   "name": "python3"
  },
  "language_info": {
   "codemirror_mode": {
    "name": "ipython",
    "version": 3
   },
   "file_extension": ".py",
   "mimetype": "text/x-python",
   "name": "python",
   "nbconvert_exporter": "python",
   "pygments_lexer": "ipython3",
   "version": "3.8.10"
  }
 },
 "nbformat": 4,
 "nbformat_minor": 2
}
