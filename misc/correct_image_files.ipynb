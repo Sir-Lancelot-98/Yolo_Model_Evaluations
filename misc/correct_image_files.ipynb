{
 "cells": [
  {
   "cell_type": "code",
   "execution_count": 1,
   "metadata": {
    "vscode": {
     "languageId": "shellscript"
    }
   },
   "outputs": [
    {
     "name": "stdout",
     "output_type": "stream",
     "text": [
      "Requirement already satisfied: ultralytics in d:\\akash\\work\\ai\\model_evaluation_vscode\\evaluation\\lib\\site-packages (8.2.73)\n",
      "Requirement already satisfied: numpy<2.0.0,>=1.23.0 in d:\\akash\\work\\ai\\model_evaluation_vscode\\evaluation\\lib\\site-packages (from ultralytics) (1.24.3)\n",
      "Requirement already satisfied: matplotlib>=3.3.0 in d:\\akash\\work\\ai\\model_evaluation_vscode\\evaluation\\lib\\site-packages (from ultralytics) (3.7.5)\n",
      "Requirement already satisfied: opencv-python>=4.6.0 in d:\\akash\\work\\ai\\model_evaluation_vscode\\evaluation\\lib\\site-packages (from ultralytics) (4.10.0.84)\n",
      "Requirement already satisfied: pillow>=7.1.2 in d:\\akash\\work\\ai\\model_evaluation_vscode\\evaluation\\lib\\site-packages (from ultralytics) (10.4.0)\n",
      "Requirement already satisfied: pyyaml>=5.3.1 in d:\\akash\\work\\ai\\model_evaluation_vscode\\evaluation\\lib\\site-packages (from ultralytics) (6.0.1)\n",
      "Requirement already satisfied: requests>=2.23.0 in d:\\akash\\work\\ai\\model_evaluation_vscode\\evaluation\\lib\\site-packages (from ultralytics) (2.32.3)\n",
      "Requirement already satisfied: scipy>=1.4.1 in d:\\akash\\work\\ai\\model_evaluation_vscode\\evaluation\\lib\\site-packages (from ultralytics) (1.10.1)\n",
      "Requirement already satisfied: torch>=1.8.0 in d:\\akash\\work\\ai\\model_evaluation_vscode\\evaluation\\lib\\site-packages (from ultralytics) (2.4.1+cu124)\n",
      "Requirement already satisfied: torchvision>=0.9.0 in d:\\akash\\work\\ai\\model_evaluation_vscode\\evaluation\\lib\\site-packages (from ultralytics) (0.19.1+cu124)\n",
      "Requirement already satisfied: tqdm>=4.64.0 in d:\\akash\\work\\ai\\model_evaluation_vscode\\evaluation\\lib\\site-packages (from ultralytics) (4.66.5)\n",
      "Requirement already satisfied: psutil in d:\\akash\\work\\ai\\model_evaluation_vscode\\evaluation\\lib\\site-packages (from ultralytics) (6.0.0)\n",
      "Requirement already satisfied: py-cpuinfo in d:\\akash\\work\\ai\\model_evaluation_vscode\\evaluation\\lib\\site-packages (from ultralytics) (9.0.0)\n",
      "Requirement already satisfied: pandas>=1.1.4 in d:\\akash\\work\\ai\\model_evaluation_vscode\\evaluation\\lib\\site-packages (from ultralytics) (2.0.3)\n",
      "Requirement already satisfied: seaborn>=0.11.0 in d:\\akash\\work\\ai\\model_evaluation_vscode\\evaluation\\lib\\site-packages (from ultralytics) (0.13.2)\n",
      "Requirement already satisfied: ultralytics-thop>=2.0.0 in d:\\akash\\work\\ai\\model_evaluation_vscode\\evaluation\\lib\\site-packages (from ultralytics) (2.0.0)\n",
      "Requirement already satisfied: contourpy>=1.0.1 in d:\\akash\\work\\ai\\model_evaluation_vscode\\evaluation\\lib\\site-packages (from matplotlib>=3.3.0->ultralytics) (1.1.1)\n",
      "Requirement already satisfied: cycler>=0.10 in d:\\akash\\work\\ai\\model_evaluation_vscode\\evaluation\\lib\\site-packages (from matplotlib>=3.3.0->ultralytics) (0.12.1)\n",
      "Requirement already satisfied: fonttools>=4.22.0 in d:\\akash\\work\\ai\\model_evaluation_vscode\\evaluation\\lib\\site-packages (from matplotlib>=3.3.0->ultralytics) (4.53.1)\n",
      "Requirement already satisfied: kiwisolver>=1.0.1 in d:\\akash\\work\\ai\\model_evaluation_vscode\\evaluation\\lib\\site-packages (from matplotlib>=3.3.0->ultralytics) (1.4.5)\n",
      "Requirement already satisfied: packaging>=20.0 in d:\\akash\\work\\ai\\model_evaluation_vscode\\evaluation\\lib\\site-packages (from matplotlib>=3.3.0->ultralytics) (24.1)\n",
      "Requirement already satisfied: pyparsing>=2.3.1 in d:\\akash\\work\\ai\\model_evaluation_vscode\\evaluation\\lib\\site-packages (from matplotlib>=3.3.0->ultralytics) (3.1.2)\n",
      "Requirement already satisfied: python-dateutil>=2.7 in d:\\akash\\work\\ai\\model_evaluation_vscode\\evaluation\\lib\\site-packages (from matplotlib>=3.3.0->ultralytics) (2.9.0.post0)\n",
      "Requirement already satisfied: importlib-resources>=3.2.0 in d:\\akash\\work\\ai\\model_evaluation_vscode\\evaluation\\lib\\site-packages (from matplotlib>=3.3.0->ultralytics) (6.4.0)\n",
      "Requirement already satisfied: pytz>=2020.1 in d:\\akash\\work\\ai\\model_evaluation_vscode\\evaluation\\lib\\site-packages (from pandas>=1.1.4->ultralytics) (2024.1)\n",
      "Requirement already satisfied: tzdata>=2022.1 in d:\\akash\\work\\ai\\model_evaluation_vscode\\evaluation\\lib\\site-packages (from pandas>=1.1.4->ultralytics) (2024.1)\n",
      "Requirement already satisfied: charset-normalizer<4,>=2 in d:\\akash\\work\\ai\\model_evaluation_vscode\\evaluation\\lib\\site-packages (from requests>=2.23.0->ultralytics) (3.3.2)\n",
      "Requirement already satisfied: idna<4,>=2.5 in d:\\akash\\work\\ai\\model_evaluation_vscode\\evaluation\\lib\\site-packages (from requests>=2.23.0->ultralytics) (3.7)\n",
      "Requirement already satisfied: urllib3<3,>=1.21.1 in d:\\akash\\work\\ai\\model_evaluation_vscode\\evaluation\\lib\\site-packages (from requests>=2.23.0->ultralytics) (2.2.2)\n",
      "Requirement already satisfied: certifi>=2017.4.17 in d:\\akash\\work\\ai\\model_evaluation_vscode\\evaluation\\lib\\site-packages (from requests>=2.23.0->ultralytics) (2024.7.4)\n",
      "Requirement already satisfied: filelock in d:\\akash\\work\\ai\\model_evaluation_vscode\\evaluation\\lib\\site-packages (from torch>=1.8.0->ultralytics) (3.13.1)\n",
      "Requirement already satisfied: typing-extensions>=4.8.0 in d:\\akash\\work\\ai\\model_evaluation_vscode\\evaluation\\lib\\site-packages (from torch>=1.8.0->ultralytics) (4.12.2)\n",
      "Requirement already satisfied: sympy in d:\\akash\\work\\ai\\model_evaluation_vscode\\evaluation\\lib\\site-packages (from torch>=1.8.0->ultralytics) (1.12)\n",
      "Requirement already satisfied: networkx in d:\\akash\\work\\ai\\model_evaluation_vscode\\evaluation\\lib\\site-packages (from torch>=1.8.0->ultralytics) (3.0)\n",
      "Requirement already satisfied: jinja2 in d:\\akash\\work\\ai\\model_evaluation_vscode\\evaluation\\lib\\site-packages (from torch>=1.8.0->ultralytics) (3.1.3)\n",
      "Requirement already satisfied: fsspec in d:\\akash\\work\\ai\\model_evaluation_vscode\\evaluation\\lib\\site-packages (from torch>=1.8.0->ultralytics) (2024.2.0)\n",
      "Requirement already satisfied: colorama in d:\\akash\\work\\ai\\model_evaluation_vscode\\evaluation\\lib\\site-packages (from tqdm>=4.64.0->ultralytics) (0.4.6)\n",
      "Requirement already satisfied: zipp>=3.1.0 in d:\\akash\\work\\ai\\model_evaluation_vscode\\evaluation\\lib\\site-packages (from importlib-resources>=3.2.0->matplotlib>=3.3.0->ultralytics) (3.19.2)\n",
      "Requirement already satisfied: six>=1.5 in d:\\akash\\work\\ai\\model_evaluation_vscode\\evaluation\\lib\\site-packages (from python-dateutil>=2.7->matplotlib>=3.3.0->ultralytics) (1.16.0)\n",
      "Requirement already satisfied: MarkupSafe>=2.0 in d:\\akash\\work\\ai\\model_evaluation_vscode\\evaluation\\lib\\site-packages (from jinja2->torch>=1.8.0->ultralytics) (2.1.5)\n",
      "Requirement already satisfied: mpmath>=0.19 in d:\\akash\\work\\ai\\model_evaluation_vscode\\evaluation\\lib\\site-packages (from sympy->torch>=1.8.0->ultralytics) (1.3.0)\n",
      "Collecting ipywidgets\n",
      "  Downloading ipywidgets-8.1.5-py3-none-any.whl.metadata (2.3 kB)\n",
      "Requirement already satisfied: comm>=0.1.3 in d:\\akash\\work\\ai\\model_evaluation_vscode\\evaluation\\lib\\site-packages (from ipywidgets) (0.2.2)\n",
      "Requirement already satisfied: ipython>=6.1.0 in d:\\akash\\work\\ai\\model_evaluation_vscode\\evaluation\\lib\\site-packages (from ipywidgets) (8.12.3)\n",
      "Requirement already satisfied: traitlets>=4.3.1 in d:\\akash\\work\\ai\\model_evaluation_vscode\\evaluation\\lib\\site-packages (from ipywidgets) (5.14.3)\n",
      "Collecting widgetsnbextension~=4.0.12 (from ipywidgets)\n",
      "  Downloading widgetsnbextension-4.0.13-py3-none-any.whl.metadata (1.6 kB)\n",
      "Collecting jupyterlab-widgets~=3.0.12 (from ipywidgets)\n",
      "  Downloading jupyterlab_widgets-3.0.13-py3-none-any.whl.metadata (4.1 kB)\n",
      "Requirement already satisfied: backcall in d:\\akash\\work\\ai\\model_evaluation_vscode\\evaluation\\lib\\site-packages (from ipython>=6.1.0->ipywidgets) (0.2.0)\n",
      "Requirement already satisfied: decorator in d:\\akash\\work\\ai\\model_evaluation_vscode\\evaluation\\lib\\site-packages (from ipython>=6.1.0->ipywidgets) (5.1.1)\n",
      "Requirement already satisfied: jedi>=0.16 in d:\\akash\\work\\ai\\model_evaluation_vscode\\evaluation\\lib\\site-packages (from ipython>=6.1.0->ipywidgets) (0.19.1)\n",
      "Requirement already satisfied: matplotlib-inline in d:\\akash\\work\\ai\\model_evaluation_vscode\\evaluation\\lib\\site-packages (from ipython>=6.1.0->ipywidgets) (0.1.7)\n",
      "Requirement already satisfied: pickleshare in d:\\akash\\work\\ai\\model_evaluation_vscode\\evaluation\\lib\\site-packages (from ipython>=6.1.0->ipywidgets) (0.7.5)\n",
      "Requirement already satisfied: prompt-toolkit!=3.0.37,<3.1.0,>=3.0.30 in d:\\akash\\work\\ai\\model_evaluation_vscode\\evaluation\\lib\\site-packages (from ipython>=6.1.0->ipywidgets) (3.0.47)\n",
      "Requirement already satisfied: pygments>=2.4.0 in d:\\akash\\work\\ai\\model_evaluation_vscode\\evaluation\\lib\\site-packages (from ipython>=6.1.0->ipywidgets) (2.18.0)\n",
      "Requirement already satisfied: stack-data in d:\\akash\\work\\ai\\model_evaluation_vscode\\evaluation\\lib\\site-packages (from ipython>=6.1.0->ipywidgets) (0.6.3)\n",
      "Requirement already satisfied: typing-extensions in d:\\akash\\work\\ai\\model_evaluation_vscode\\evaluation\\lib\\site-packages (from ipython>=6.1.0->ipywidgets) (4.12.2)\n",
      "Requirement already satisfied: colorama in d:\\akash\\work\\ai\\model_evaluation_vscode\\evaluation\\lib\\site-packages (from ipython>=6.1.0->ipywidgets) (0.4.6)\n",
      "Requirement already satisfied: parso<0.9.0,>=0.8.3 in d:\\akash\\work\\ai\\model_evaluation_vscode\\evaluation\\lib\\site-packages (from jedi>=0.16->ipython>=6.1.0->ipywidgets) (0.8.4)\n",
      "Requirement already satisfied: wcwidth in d:\\akash\\work\\ai\\model_evaluation_vscode\\evaluation\\lib\\site-packages (from prompt-toolkit!=3.0.37,<3.1.0,>=3.0.30->ipython>=6.1.0->ipywidgets) (0.2.13)\n",
      "Requirement already satisfied: executing>=1.2.0 in d:\\akash\\work\\ai\\model_evaluation_vscode\\evaluation\\lib\\site-packages (from stack-data->ipython>=6.1.0->ipywidgets) (2.0.1)\n",
      "Requirement already satisfied: asttokens>=2.1.0 in d:\\akash\\work\\ai\\model_evaluation_vscode\\evaluation\\lib\\site-packages (from stack-data->ipython>=6.1.0->ipywidgets) (2.4.1)\n",
      "Requirement already satisfied: pure-eval in d:\\akash\\work\\ai\\model_evaluation_vscode\\evaluation\\lib\\site-packages (from stack-data->ipython>=6.1.0->ipywidgets) (0.2.3)\n",
      "Requirement already satisfied: six>=1.12.0 in d:\\akash\\work\\ai\\model_evaluation_vscode\\evaluation\\lib\\site-packages (from asttokens>=2.1.0->stack-data->ipython>=6.1.0->ipywidgets) (1.16.0)\n",
      "Downloading ipywidgets-8.1.5-py3-none-any.whl (139 kB)\n",
      "Downloading jupyterlab_widgets-3.0.13-py3-none-any.whl (214 kB)\n",
      "Downloading widgetsnbextension-4.0.13-py3-none-any.whl (2.3 MB)\n",
      "   ---------------------------------------- 0.0/2.3 MB ? eta -:--:--\n",
      "   ---------------------------------------- 2.3/2.3 MB 22.1 MB/s eta 0:00:00\n",
      "Installing collected packages: widgetsnbextension, jupyterlab-widgets, ipywidgets\n",
      "Successfully installed ipywidgets-8.1.5 jupyterlab-widgets-3.0.13 widgetsnbextension-4.0.13\n"
     ]
    }
   ],
   "source": [
    "!pip install ultralytics\n",
    "!pip install  ipywidgets"
   ]
  },
  {
   "cell_type": "code",
   "execution_count": 1,
   "metadata": {},
   "outputs": [],
   "source": [
    "import os\n",
    "from pathlib import Path\n",
    "from ultralytics.data.utils import verify_image\n",
    "from tqdm.notebook import tqdm\n",
    "import os\n",
    "from PIL import Image"
   ]
  },
  {
   "cell_type": "code",
   "execution_count": 2,
   "metadata": {},
   "outputs": [],
   "source": [
    "def convert_images_to_jpg(images_path):\n",
    "    # Supported input image formats\n",
    "    supported_formats = (\".png\", \".bmp\", \".tiff\", \".jpeg\", \".gif\", \".webp\")\n",
    "    count = 0\n",
    "    for filename in tqdm(\n",
    "        os.listdir(images_path),\n",
    "        desc=rf\"converting to files in {images_path} to JPG\",\n",
    "        unit=\" images\",\n",
    "    ):\n",
    "        if filename.lower().endswith(supported_formats):\n",
    "            input_path = os.path.join(images_path, filename)\n",
    "            output_filename = os.path.splitext(filename)[0] + \".jpg\"\n",
    "            output_path = os.path.join(images_path, output_filename)\n",
    "            try:\n",
    "                with Image.open(input_path) as img:\n",
    "                    # Convert to RGB (to avoid issues with transparency)\n",
    "                    img = img.convert(\"RGB\")\n",
    "                    img.save(output_path, \"JPEG\", quality=95)\n",
    "                    os.remove(input_path)\n",
    "                    # print(f\"Converted: {input_path} -> {output_path}\")\n",
    "                    count += 1\n",
    "            except Exception as e:\n",
    "                print(f\"Error converting {input_path}: {e}\")\n",
    "    print(f\"Converted {count} images to JPG format\")\n",
    "\n",
    "def check_corrupt_files(images_path):\n",
    "\n",
    "    for filename in tqdm(\n",
    "        os.listdir(images_path), desc=fr\"correcting corrupt files in {images_path}\", unit=\" images\"\n",
    "    ):\n",
    "        (_, _), _, _, msg = verify_image(\n",
    "            ((os.path.join(images_path, filename), 0), filename)\n",
    "        )\n",
    "        if msg:\n",
    "            print(msg)\n",
    "\n",
    "\n",
    "def check_image_files(paths):\n",
    "    for path in paths:\n",
    "        images_path_train = path / r\"images\" / r\"train\"\n",
    "        images_path_val = path / r\"images\" / r\"val\"\n",
    "        if images_path_train.exists():\n",
    "            convert_images_to_jpg(images_path_train)\n",
    "            convert_images_to_jpg(images_path_val)\n",
    "            check_corrupt_files(images_path_train)\n",
    "            check_corrupt_files(images_path_val)\n",
    "        else:\n",
    "            convert_images_to_jpg(path)\n",
    "            check_corrupt_files(path)"
   ]
  },
  {
   "cell_type": "markdown",
   "metadata": {},
   "source": [
    "# set path to images folder or dataset folder"
   ]
  },
  {
   "cell_type": "code",
   "execution_count": 3,
   "metadata": {},
   "outputs": [],
   "source": [
    "paths = [\n",
    "    Path(r\"D:\\Akash\\Work\\AI\\2025\\TC04\\2025_01_tc1_dataset_01\\occlusion_5\\images\\train\")\n",
    "]"
   ]
  },
  {
   "cell_type": "code",
   "execution_count": 4,
   "metadata": {},
   "outputs": [
    {
     "data": {
      "application/vnd.jupyter.widget-view+json": {
       "model_id": "761b2433b1884873bac0bfc7a2787a31",
       "version_major": 2,
       "version_minor": 0
      },
      "text/plain": [
       "converting to files in D:\\Akash\\Work\\AI\\2025\\TC04\\2025_01_tc1_dataset_01\\occlusion_5\\images\\train to JPG:   0%…"
      ]
     },
     "metadata": {},
     "output_type": "display_data"
    },
    {
     "name": "stdout",
     "output_type": "stream",
     "text": [
      "Converted 0 images to JPG format\n"
     ]
    },
    {
     "data": {
      "application/vnd.jupyter.widget-view+json": {
       "model_id": "c9ccc7f302f646f9a67127202c78e587",
       "version_major": 2,
       "version_minor": 0
      },
      "text/plain": [
       "correcting corrupt files in D:\\Akash\\Work\\AI\\2025\\TC04\\2025_01_tc1_dataset_01\\occlusion_5\\images\\train:   0%| …"
      ]
     },
     "metadata": {},
     "output_type": "display_data"
    }
   ],
   "source": [
    "check_image_files(paths)"
   ]
  }
 ],
 "metadata": {
  "kernelspec": {
   "display_name": "evaluation",
   "language": "python",
   "name": "python3"
  },
  "language_info": {
   "codemirror_mode": {
    "name": "ipython",
    "version": 3
   },
   "file_extension": ".py",
   "mimetype": "text/x-python",
   "name": "python",
   "nbconvert_exporter": "python",
   "pygments_lexer": "ipython3",
   "version": "3.8.10"
  }
 },
 "nbformat": 4,
 "nbformat_minor": 2
}
