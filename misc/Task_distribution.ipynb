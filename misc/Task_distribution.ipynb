{
 "cells": [
  {
   "cell_type": "markdown",
   "metadata": {},
   "source": [
    "# Annotation distribution"
   ]
  },
  {
   "cell_type": "code",
   "execution_count": 2,
   "metadata": {},
   "outputs": [
    {
     "name": "stdout",
     "output_type": "stream",
     "text": [
      "Formatted Excel file saved as: output.xlsx\n"
     ]
    }
   ],
   "source": [
    "import pandas as pd\n",
    "from openpyxl import load_workbook\n",
    "from openpyxl.styles import Alignment, Font, Border, Side\n",
    "from openpyxl.utils import get_column_letter\n",
    "\n",
    "def divide_number_with_table(names, total):\n",
    "    base = total // len(names)\n",
    "    remainder = total % len(names)\n",
    "\n",
    "    start = 1\n",
    "    distribution = []\n",
    "    checkers = names[-1:] + names[:-1]  # Assign checkers by shifting the list\n",
    "\n",
    "    for i, name in enumerate(names):\n",
    "        share = base + (1 if i < remainder else 0)\n",
    "        end = start + share - 1\n",
    "        distribution.append([\n",
    "            f\"{start}-{end}\",  # 画像範囲\n",
    "            name,  # 担当\n",
    "            f\"_/{share}\",  # 画像数\n",
    "            \"未開始\",  # 状況\n",
    "            checkers[i],  # チェック担当\n",
    "            f\"_/{share}\",  # 画像数\n",
    "            \"未開始\",  # 状況\n",
    "            \"\", # 修正予定内容確認（俣江さんチェック)\n",
    "            \"\", # 最後修正状況\n",
    "            \"未開始\"  # チェック確認状況\n",
    "        ])\n",
    "        start = end + 1\n",
    "\n",
    "    return distribution\n",
    "\n",
    "# List of names\n",
    "names = [\"アメヤ\", \"アカシュ\", \"デバイヤ\", \"シバニ\", \"プラシャント\", \"クロ\"]\n",
    "\n",
    "# Total number to divide\n",
    "N = 825\n",
    "\n",
    "# Get the table data\n",
    "table_data = divide_number_with_table(names, N)\n",
    "\n",
    "# Define headers\n",
    "headers = [\"画像範囲\", \"担当\", \"画像数\", \"状況\", \"チェック担当\", \"画像数\", \"状況\", \"修正予定内容確認（俣江さんチェック)\",\"最後修正状況\",\"チェック\\n確認状況\"]\n",
    "\n",
    "# Create DataFrame and save to Excel\n",
    "output_path = \"output.xlsx\"\n",
    "df = pd.DataFrame(table_data, columns=headers)\n",
    "df.to_excel(output_path, index=False)\n",
    "\n",
    "# Load the workbook for formatting\n",
    "wb = load_workbook(output_path)\n",
    "ws = wb.active\n",
    "\n",
    "# Set column widths for better readability\n",
    "col_widths = [12, 12, 10, 10, 12, 10, 10, 15]  # Adjusted for spacing\n",
    "for i, width in enumerate(col_widths, start=1):\n",
    "    ws.column_dimensions[get_column_letter(i)].width = width\n",
    "\n",
    "# Style settings\n",
    "bold_font = Font(bold=True)\n",
    "center_align = Alignment(horizontal=\"center\", vertical=\"center\")\n",
    "thin_border = Border(\n",
    "    left=Side(style=\"thin\"), right=Side(style=\"thin\"),\n",
    "    top=Side(style=\"thin\"), bottom=Side(style=\"thin\")\n",
    ")\n",
    "\n",
    "# Apply styles to header\n",
    "for cell in ws[1]:  \n",
    "    cell.font = bold_font\n",
    "    cell.alignment = center_align\n",
    "    cell.border = thin_border\n",
    "\n",
    "# Apply styles to data cells\n",
    "for row in ws.iter_rows(min_row=2, max_row=ws.max_row, min_col=1, max_col=ws.max_column):\n",
    "    for cell in row:\n",
    "        cell.alignment = center_align\n",
    "        cell.border = thin_border\n",
    "\n",
    "# Save the formatted file\n",
    "wb.save(output_path)\n",
    "print(f\"Formatted Excel file saved as: {output_path}\")\n"
   ]
  },
  {
   "cell_type": "markdown",
   "metadata": {},
   "source": [
    "# Folder structure copy"
   ]
  },
  {
   "cell_type": "code",
   "execution_count": 3,
   "metadata": {},
   "outputs": [
    {
     "name": "stdout",
     "output_type": "stream",
     "text": [
      "Folder structure from '\\\\10.0.20.60\\share\\AI\\data\\_test_data\\評価データ作成_202501\\定性評価\\fiftyone\\data' copied to '\\\\10.0.20.60\\share\\AI\\Annotation\\Annotation_check\\202501_FiftyOne_TeiseiHyouka' (excluding 'labels' folders)\n"
     ]
    }
   ],
   "source": [
    "import os\n",
    "\n",
    "def copy_folder_structure(root_source, root_dest):\n",
    "    for root, dirs, _ in os.walk(root_source):\n",
    "        # Remove 'labels' directories from the list to prevent traversal\n",
    "        dirs[:] = [d for d in dirs if d.lower() not in ('labels', 'images')]\n",
    "        \n",
    "        # Compute the relative path of the current directory\n",
    "        relative_path = os.path.relpath(root, root_source)\n",
    "        # Compute the corresponding destination directory\n",
    "        dest_dir = os.path.join(root_dest, relative_path)\n",
    "        # Create the destination directory if it doesn't exist\n",
    "        os.makedirs(dest_dir, exist_ok=True)\n",
    "\n",
    "# Example usage:\n",
    "root_source = r\"\\\\10.0.20.60\\share\\AI\\data\\_test_data\\評価データ作成_202501\\定性評価\\fiftyone\\data\"\n",
    "root_dest = r\"\\\\10.0.20.60\\share\\AI\\Annotation\\Annotation_check\\202501_FiftyOne_TeiseiHyouka\"\n",
    "\n",
    "copy_folder_structure(root_source, root_dest)\n",
    "print(f\"Folder structure from '{root_source}' copied to '{root_dest}' (excluding 'labels' folders)\")\n"
   ]
  }
 ],
 "metadata": {
  "kernelspec": {
   "display_name": "evaluation",
   "language": "python",
   "name": "python3"
  },
  "language_info": {
   "codemirror_mode": {
    "name": "ipython",
    "version": 3
   },
   "file_extension": ".py",
   "mimetype": "text/x-python",
   "name": "python",
   "nbconvert_exporter": "python",
   "pygments_lexer": "ipython3",
   "version": "3.8.10"
  }
 },
 "nbformat": 4,
 "nbformat_minor": 2
}
