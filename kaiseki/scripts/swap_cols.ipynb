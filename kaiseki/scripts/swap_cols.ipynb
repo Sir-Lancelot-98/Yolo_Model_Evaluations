{
 "cells": [
  {
   "cell_type": "code",
   "execution_count": 12,
   "metadata": {},
   "outputs": [
    {
     "name": "stdout",
     "output_type": "stream",
     "text": [
      "Swapped 'Recall' and 'Precision' in Z:\\AI\\research_2023-\\FT\\_F1_curve_results\\立っているポーズ\\241017103741_runs_train_2024_10_tc5_dataset_02\\Precision-Recall_Curve.xlsx\n",
      "Swapped 'Recall' and 'Precision' in Z:\\AI\\research_2023-\\FT\\_F1_curve_results\\立っているポーズ\\241017105413_runs_train_2024_10_tc5_dataset_04\\Precision-Recall_Curve.xlsx\n",
      "Swapped 'Recall' and 'Precision' in Z:\\AI\\research_2023-\\FT\\_F1_curve_results\\立っているポーズ\\241017105839_runs_train_2024_10_tc5_dataset_03\\Precision-Recall_Curve.xlsx\n",
      "Swapped 'Recall' and 'Precision' in Z:\\AI\\research_2023-\\FT\\_F1_curve_results\\立っているポーズ\\241017110913_runs_train_2024_10_tc5_dataset_01\\Precision-Recall_Curve.xlsx\n",
      "Swapped 'Recall' and 'Precision' in Z:\\AI\\research_2023-\\FT\\_F1_curve_results\\立っているポーズ\\241018091055_runs_train_2024_10_tc5_dataset_05\\Precision-Recall_Curve.xlsx\n",
      "Swapped 'Recall' and 'Precision' in Z:\\AI\\research_2023-\\FT\\_F1_curve_results\\立っているポーズ\\241018091729_runs_train_2024_10_tc5_dataset_07\\Precision-Recall_Curve.xlsx\n",
      "Swapped 'Recall' and 'Precision' in Z:\\AI\\research_2023-\\FT\\_F1_curve_results\\立っているポーズ\\241018093852_runs_train_2024_10_tc5_dataset_06\\Precision-Recall_Curve.xlsx\n",
      "Swapped 'Recall' and 'Precision' in Z:\\AI\\research_2023-\\FT\\_F1_curve_results\\立っているポーズ\\241018110007_runs_train_2024_10_tc5_dataset_08\\Precision-Recall_Curve.xlsx\n",
      "Swapped 'Recall' and 'Precision' in Z:\\AI\\research_2023-\\FT\\_F1_curve_results\\立っているポーズ\\241019072903_runs_train_2024_10_tc5_dataset_11\\Precision-Recall_Curve.xlsx\n",
      "Swapped 'Recall' and 'Precision' in Z:\\AI\\research_2023-\\FT\\_F1_curve_results\\立っているポーズ\\241019073850_runs_train_2024_10_tc5_dataset_09\\Precision-Recall_Curve.xlsx\n",
      "Swapped 'Recall' and 'Precision' in Z:\\AI\\research_2023-\\FT\\_F1_curve_results\\立っているポーズ\\241019080700_runs_train_2024_10_tc5_dataset_10\\Precision-Recall_Curve.xlsx\n"
     ]
    }
   ],
   "source": [
    "import os\n",
    "import pandas as pd\n",
    "\n",
    "# Function to swap Recall and Precision columns\n",
    "def swap_columns_in_excel(file_path):\n",
    "    # Read the Excel file into a DataFrame\n",
    "    df = pd.read_excel(file_path)\n",
    "    \n",
    "    # Assuming 'Recall' is column 1 and 'Precision' is column 2, we swap them\n",
    "    df = df[['Precision', 'Recall']]  # Reorder the columns\n",
    "    \n",
    "    # Save the modified DataFrame back to Excel\n",
    "    df.to_excel(file_path, index=False)\n",
    "    print(f\"Swapped 'Recall' and 'Precision' in {file_path}\")\n",
    "\n",
    "# Function to search for \"tc5\" folders and swap columns in specific Excel files\n",
    "def swap_columns_in_tc5_folders(root_folder):\n",
    "    for subdir, dirs, files in os.walk(root_folder):\n",
    "        if \"tc5\" in subdir.lower():\n",
    "            for file in files:\n",
    "                if file == \"Precision-Recall_Curve.xlsx\":\n",
    "                    file_path = os.path.join(subdir, file)\n",
    "                    swap_columns_in_excel(file_path)\n",
    "\n",
    "# Specify your root folder path here\n",
    "root_folder = r'Z:\\AI\\research_2023-\\FT\\_F1_curve_results\\立っているポーズ'\n",
    "swap_columns_in_tc5_folders(root_folder)\n"
   ]
  },
  {
   "cell_type": "code",
   "execution_count": 16,
   "metadata": {},
   "outputs": [
    {
     "name": "stdout",
     "output_type": "stream",
     "text": [
      "Copied Z:\\AI\\research_2023-\\FT\\_F1_curve_results\\特徴がよくみえない画像\\241017103741_runs_train_2024_10_tc5_dataset_02 to D:\\Akash\\Work\\AI\\testing\\merge\\特徴がよくみえない画像\\241017103741_runs_train_2024_10_tc5_dataset_02\n",
      "Copied Z:\\AI\\research_2023-\\FT\\_F1_curve_results\\特徴がよくみえない画像\\241017105413_runs_train_2024_10_tc5_dataset_04 to D:\\Akash\\Work\\AI\\testing\\merge\\特徴がよくみえない画像\\241017105413_runs_train_2024_10_tc5_dataset_04\n",
      "Copied Z:\\AI\\research_2023-\\FT\\_F1_curve_results\\特徴がよくみえない画像\\241017105839_runs_train_2024_10_tc5_dataset_03 to D:\\Akash\\Work\\AI\\testing\\merge\\特徴がよくみえない画像\\241017105839_runs_train_2024_10_tc5_dataset_03\n",
      "Copied Z:\\AI\\research_2023-\\FT\\_F1_curve_results\\特徴がよくみえない画像\\241017110913_runs_train_2024_10_tc5_dataset_01 to D:\\Akash\\Work\\AI\\testing\\merge\\特徴がよくみえない画像\\241017110913_runs_train_2024_10_tc5_dataset_01\n",
      "Copied Z:\\AI\\research_2023-\\FT\\_F1_curve_results\\特徴がよくみえない画像\\241018091055_runs_train_2024_10_tc5_dataset_05 to D:\\Akash\\Work\\AI\\testing\\merge\\特徴がよくみえない画像\\241018091055_runs_train_2024_10_tc5_dataset_05\n",
      "Copied Z:\\AI\\research_2023-\\FT\\_F1_curve_results\\特徴がよくみえない画像\\241018091729_runs_train_2024_10_tc5_dataset_07 to D:\\Akash\\Work\\AI\\testing\\merge\\特徴がよくみえない画像\\241018091729_runs_train_2024_10_tc5_dataset_07\n",
      "Copied Z:\\AI\\research_2023-\\FT\\_F1_curve_results\\特徴がよくみえない画像\\241018093852_runs_train_2024_10_tc5_dataset_06 to D:\\Akash\\Work\\AI\\testing\\merge\\特徴がよくみえない画像\\241018093852_runs_train_2024_10_tc5_dataset_06\n",
      "Copied Z:\\AI\\research_2023-\\FT\\_F1_curve_results\\特徴がよくみえない画像\\241018110007_runs_train_2024_10_tc5_dataset_08 to D:\\Akash\\Work\\AI\\testing\\merge\\特徴がよくみえない画像\\241018110007_runs_train_2024_10_tc5_dataset_08\n",
      "Copied Z:\\AI\\research_2023-\\FT\\_F1_curve_results\\特徴がよくみえない画像\\241019072903_runs_train_2024_10_tc5_dataset_11 to D:\\Akash\\Work\\AI\\testing\\merge\\特徴がよくみえない画像\\241019072903_runs_train_2024_10_tc5_dataset_11\n",
      "Copied Z:\\AI\\research_2023-\\FT\\_F1_curve_results\\特徴がよくみえない画像\\241019073850_runs_train_2024_10_tc5_dataset_09 to D:\\Akash\\Work\\AI\\testing\\merge\\特徴がよくみえない画像\\241019073850_runs_train_2024_10_tc5_dataset_09\n",
      "Copied Z:\\AI\\research_2023-\\FT\\_F1_curve_results\\特徴がよくみえない画像\\241019080700_runs_train_2024_10_tc5_dataset_10 to D:\\Akash\\Work\\AI\\testing\\merge\\特徴がよくみえない画像\\241019080700_runs_train_2024_10_tc5_dataset_10\n"
     ]
    }
   ],
   "source": [
    "import os\n",
    "import shutil\n",
    "\n",
    "# List of folder names visible in the image\n",
    "folders_to_traverse = [\n",
    "    # \"ぼやけされている人\",\n",
    "    # \"運転している\",\n",
    "    # \"顔が見えない運転者の画像\",\n",
    "    # \"屈んでいるポーズ\",\n",
    "    # \"結合データセット\",\n",
    "    # \"座っているポーズ\",\n",
    "    # \"遮蔽されている人\",\n",
    "    # \"体の部分\",\n",
    "    # \"箱を持っている·運んでいるポーズ\",\n",
    "    # \"立っているポーズ\",\n",
    "    \"特徴がよくみえない画像\"\n",
    "]\n",
    "\n",
    "# Function to copy entire folder tree for directories containing \"tc5\" in their name\n",
    "def copy_tc5_folders_in_specific_dirs(root_folder, destination_folder, folder_list):\n",
    "    for folder_name in folder_list:\n",
    "        folder_path = os.path.join(root_folder, folder_name)\n",
    "        \n",
    "        # Check if the folder exists in the root directory\n",
    "        if os.path.isdir(folder_path):\n",
    "            for subdir, dirs, files in os.walk(folder_path):\n",
    "                for dir_name in dirs:\n",
    "                    if \"tc5\" in dir_name.lower():\n",
    "                        source_folder = os.path.join(subdir, dir_name)\n",
    "                        \n",
    "                        # Calculate the relative path from the base folder (the root folder)\n",
    "                        relative_path = os.path.relpath(source_folder, root_folder)\n",
    "                        \n",
    "                        # Create the target path using the relative path, preserving folder structure\n",
    "                        target_folder = os.path.join(destination_folder, relative_path)\n",
    "                        \n",
    "                        # Copy the folder tree to the destination\n",
    "                        shutil.copytree(source_folder, target_folder)\n",
    "                        print(f\"Copied {source_folder} to {target_folder}\")\n",
    "        else:\n",
    "            print(f\"Folder {folder_name} does not exist in the root folder.\")\n",
    "\n",
    "# Specify your root folder path here\n",
    "root_folder = r'Z:\\AI\\research_2023-\\FT\\_F1_curve_results'\n",
    "\n",
    "# Specify your destination folder path here\n",
    "destination_folder = r'D:\\Akash\\Work\\AI\\testing\\merge'\n",
    "\n",
    "# Call the function with the specific folder list\n",
    "copy_tc5_folders_in_specific_dirs(root_folder, destination_folder, folders_to_traverse)\n"
   ]
  }
 ],
 "metadata": {
  "kernelspec": {
   "display_name": "evaluation",
   "language": "python",
   "name": "python3"
  },
  "language_info": {
   "codemirror_mode": {
    "name": "ipython",
    "version": 3
   },
   "file_extension": ".py",
   "mimetype": "text/x-python",
   "name": "python",
   "nbconvert_exporter": "python",
   "pygments_lexer": "ipython3",
   "version": "3.8.10"
  }
 },
 "nbformat": 4,
 "nbformat_minor": 2
}
