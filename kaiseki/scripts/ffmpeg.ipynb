{
 "cells": [
  {
   "cell_type": "code",
   "execution_count": null,
   "metadata": {},
   "outputs": [],
   "source": [
    "import subprocess\n",
    "\n",
    "input_video_path1 = r\"D:\\Akash\\Work\\AI\\202407_tc1\\Analysis\\bg_influence\\teisei\\F1conf_detect_v360_img_test1_merged.mp4\"\n",
    "input_video_path2 = r\"D:\\Akash\\Work\\AI\\202407_tc1\\Analysis\\bg_influence\\teisei\\F1conf_detect_v360_img_test1_merged.mp4\"\n",
    "input_video_path3 = r\"D:\\Akash\\Work\\AI\\202407_tc1\\Analysis\\bg_influence\\teisei\\F1conf_detect_v360_img_test1_merged.mp4\"\n",
    "input_video_path4 = r\"D:\\Akash\\Work\\AI\\202407_tc1\\Analysis\\bg_influence\\teisei\\F1conf_detect_v360_img_test1_merged.mp4\"\n",
    "output_path = r\"D:\\Akash\\Work\\AI\\202407_tc1\\Analysis\\bg_influence\\teisei\\stack.mp4\"\n",
    "\n",
    "ffmpeg_command = (\n",
    "    f\"ffmpeg -y -i {input_video_path1} -i {input_video_path2} -i {input_video_path3} -i {input_video_path4} \"\n",
    "    f\"-filter_complex \"\n",
    "    f\"[0:v][1:v]hstack[top];[2:v][3:v]hstack[bottom];[top][bottom]vstack \"\n",
    "    f\"-preset ultrafast \"\n",
    "    f\"{output_path}\"\n",
    ")\n",
    "\n",
    "# Execute the command\n",
    "subprocess.run(ffmpeg_command, shell=True, check=True)"
   ]
  },
  {
   "cell_type": "code",
   "execution_count": 36,
   "metadata": {},
   "outputs": [
    {
     "name": "stdout",
     "output_type": "stream",
     "text": [
      "ffmpeg -y -i D:\\Akash\\Work\\AI\\202407_tc1\\Analysis\\bg_influence\\teisei\\F1conf_detect_v360_img_test1_merged.mp4 -i D:\\Akash\\Work\\AI\\202407_tc1\\Analysis\\bg_influence\\teisei\\F1conf_detect_v360_img_test1_merged.mp4 -i D:\\Akash\\Work\\AI\\202407_tc1\\Analysis\\bg_influence\\teisei\\F1conf_detect_v360_img_test1_merged.mp4 -i D:\\Akash\\Work\\AI\\202407_tc1\\Analysis\\bg_influence\\teisei\\F1conf_detect_v360_img_test1_merged.mp4 -filter_complex [0:v]drawtext=text='Video 1':fontfile=fonts\\Roboto\\Roboto-Bold.ttf:fontsize=80:x=(w-text_w)/2:y=text_h:fontcolor=white[v0];[1:v]drawtext=text='Video 2':fontfile=fonts\\Roboto\\Roboto-Bold.ttf:fontsize=80:x=(w-text_w)/2:y=text_h:fontcolor=white[v1];[2:v]drawtext=text='Video 3':fontfile=fonts\\Roboto\\Roboto-Bold.ttf:fontsize=80:x=(w-text_w)/2:y=text_h:fontcolor=white[v2];[3:v]drawtext=text='Video 4':fontfile=fonts\\Roboto\\Roboto-Bold.ttf:fontsize=80:x=(w-text_w)/2:y=text_h:fontcolor=white[v3];[v0][v1]hstack[top];[v2][v3]hstack[bottom];[top][bottom]vstack -preset ultrafast D:\\Akash\\Work\\AI\\202407_tc1\\Analysis\\bg_influence\\teisei\\stack.mp4\n"
     ]
    }
   ],
   "source": [
    "import subprocess\n",
    "\n",
    "input_video_path1 = r\"D:\\Akash\\Work\\AI\\202407_tc1\\Analysis\\bg_influence\\teisei\\F1conf_detect_v360_img_test1_merged.mp4\"\n",
    "input_video_path2 = r\"D:\\Akash\\Work\\AI\\202407_tc1\\Analysis\\bg_influence\\teisei\\F1conf_detect_v360_img_test1_merged.mp4\"\n",
    "input_video_path3 = r\"D:\\Akash\\Work\\AI\\202407_tc1\\Analysis\\bg_influence\\teisei\\F1conf_detect_v360_img_test1_merged.mp4\"\n",
    "input_video_path4 = r\"D:\\Akash\\Work\\AI\\202407_tc1\\Analysis\\bg_influence\\teisei\\F1conf_detect_v360_img_test1_merged.mp4\"\n",
    "output_path = r\"D:\\Akash\\Work\\AI\\202407_tc1\\Analysis\\bg_influence\\teisei\\stack.mp4\"\n",
    "\n",
    "font_path =r\"fonts\\Roboto\\Roboto-Bold.ttf\"\n",
    "ffmpeg_command = (\n",
    "    f\"ffmpeg -y -i {input_video_path1} -i {input_video_path2} -i {input_video_path3} -i {input_video_path4} \"\n",
    "    f\"-filter_complex \"\n",
    "    f\"[0:v]drawtext=text='Video 1':fontfile={font_path}:fontsize=80:x=(w-text_w)/2:y=text_h:fontcolor=white[v0];\"\n",
    "    f\"[1:v]drawtext=text='Video 2':fontfile={font_path}:fontsize=80:x=(w-text_w)/2:y=text_h:fontcolor=white[v1];\"\n",
    "    f\"[2:v]drawtext=text='Video 3':fontfile={font_path}:fontsize=80:x=(w-text_w)/2:y=text_h:fontcolor=white[v2];\"\n",
    "    f\"[3:v]drawtext=text='Video 4':fontfile={font_path}:fontsize=80:x=(w-text_w)/2:y=text_h:fontcolor=white[v3];\"\n",
    "    f\"[v0][v1]hstack[top];[v2][v3]hstack[bottom];[top][bottom]vstack \"\n",
    "    f\"-preset ultrafast {output_path}\"\n",
    ")\n",
    "\n",
    "print(ffmpeg_command)\n",
    "# subprocess.run(ffmpeg_command, shell=True, stderr=subprocess.STDOUT, check = True)"
   ]
  },
  {
   "cell_type": "code",
   "execution_count": 1,
   "metadata": {},
   "outputs": [],
   "source": [
    "import os\n",
    "import shutil\n",
    "\n",
    "def copy_and_rename_images(root_folder, destination_folder):\n",
    "    # Create destination folder if it doesn't exist\n",
    "    os.makedirs(destination_folder, exist_ok=True)\n",
    "    \n",
    "    # Walk through the root folder\n",
    "    for subdir, dirs, files in os.walk(root_folder):\n",
    "        for file in files:\n",
    "            if file.endswith(\".jpg\"):\n",
    "                # Extract the base folder name (e.g., \"MOT17-(some number)\")\n",
    "                base_folder = os.path.basename(os.path.dirname(subdir))\n",
    "                \n",
    "                # Extract the image name\n",
    "                image_name = file\n",
    "                \n",
    "                # Form the new image name (e.g., \"MOT17_(some number)_imagename.jpg\")\n",
    "                new_image_name = f\"{base_folder.replace('-', '_')}_{image_name}\"\n",
    "                \n",
    "                # Define the source image path\n",
    "                source_image_path = os.path.join(subdir, file)\n",
    "                \n",
    "                # Define the destination image path\n",
    "                destination_image_path = os.path.join(destination_folder, new_image_name)\n",
    "                \n",
    "                # Copy and rename the image\n",
    "                shutil.copyfile(source_image_path, destination_image_path)\n",
    "\n",
    "# Usage\n",
    "root_folder = r\"D:\\Akash\\Work\\AI\\Dataset_research\\MOT17Det\\MOT17\"  # Replace with the root folder path (test or train)\n",
    "destination_folder = r\"D:\\Akash\\Work\\AI\\Dataset_research\\MOT17Det\\MOT17_all\"  # Replace with the destination folder path\n",
    "copy_and_rename_images(root_folder, destination_folder)\n"
   ]
  }
 ],
 "metadata": {
  "kernelspec": {
   "display_name": "evaluation",
   "language": "python",
   "name": "python3"
  },
  "language_info": {
   "codemirror_mode": {
    "name": "ipython",
    "version": 3
   },
   "file_extension": ".py",
   "mimetype": "text/x-python",
   "name": "python",
   "nbconvert_exporter": "python",
   "pygments_lexer": "ipython3",
   "version": "3.8.10"
  }
 },
 "nbformat": 4,
 "nbformat_minor": 2
}
