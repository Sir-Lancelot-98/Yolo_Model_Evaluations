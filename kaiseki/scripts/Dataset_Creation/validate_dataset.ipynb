{
 "cells": [
  {
   "cell_type": "code",
   "execution_count": 1,
   "metadata": {
    "vscode": {
     "languageId": "shellscript"
    }
   },
   "outputs": [],
   "source": [
    "# pip install tqdm\n",
    "# pip install ultralytics"
   ]
  },
  {
   "cell_type": "code",
   "execution_count": 2,
   "metadata": {},
   "outputs": [],
   "source": [
    "from pathlib import Path\n",
    "import pandas as pd\n",
    "import os\n",
    "from tqdm.notebook import tqdm\n",
    "import yaml as yml\n",
    "from IPython.display import display\n",
    "from ultralytics.data.utils import verify_image_label,IMG_FORMATS, img2label_paths"
   ]
  },
  {
   "cell_type": "code",
   "execution_count": 3,
   "metadata": {},
   "outputs": [],
   "source": [
    "YAML_FILE_NAME = r\"data.yaml\"\n",
    "DEFAULT_RATIO = {\"train\":9, \"val\":1}\n",
    "get_files_with_extensions = lambda folder_path, extensions : [file for file in folder_path.iterdir() if file.suffix.split('.')[1] in extensions]\n",
    "class YOLODataset:\n",
    "    def __init__(self, dataset_path):\n",
    "        self.path = dataset_path\n",
    "        self.dataset_name = self.path.name\n",
    "        self.image_dir = self.path / r\"images\"\n",
    "        self.label_dir = self.path / r\"labels\"\n",
    "        self.train_images_path = self.image_dir / \"train\"\n",
    "        self.train_labels_path = self.label_dir / \"train\"\n",
    "        self.val_images_path = self.image_dir / \"val\"\n",
    "        self.val_labels_path = self.label_dir / \"val\"\n",
    "        self.yaml_file = self.path / YAML_FILE_NAME\n",
    "\n",
    "    def __str__(self):\n",
    "        return self.dataset_name\n",
    "    def get_stats(self):\n",
    "        self.train_images = get_files_with_extensions(self.train_images_path, IMG_FORMATS)\n",
    "        self.val_images = get_files_with_extensions(self.val_images_path, IMG_FORMATS)\n",
    "        self.train_labels = get_files_with_extensions(self.train_labels_path, [\"txt\"])\n",
    "        self.val_labels = get_files_with_extensions(self.val_labels_path, [\"txt\"])\n",
    "        self.total_images = self.train_images + self.val_images\n",
    "        self.total_labels = self.train_labels + self.val_labels\n",
    "        # Count the number of images and labels\n",
    "        self.train_images_count, self.train_labels_count = len(self.train_images), len(self.train_labels)\n",
    "        self.val_images_count, self.val_labels_count = len(self.val_images), len(self.val_labels)\n",
    "        self.total_images_count, self.total_labels_count = len(self.total_images), len(self.total_labels)\n",
    "        # Find the background images\n",
    "        background_image_names = set(file.stem for file in self.total_images) - set(file.stem for file in self.total_labels)\n",
    "        self.background_images = [file for file in self.total_images if file.stem in background_image_names]\n",
    "        self.BG_count = len(self.background_images)\n",
    "        #  calculate the ratio between val and train\n",
    "        self.train_ratio = self.train_images_count / self.total_images_count\n",
    "        self.val_ratio = self.val_images_count / self.total_images_count\n",
    "        data = {}\n",
    "        data[\"dataset_name\"] = self.dataset_name\n",
    "        data[\"train_images_count\"] = self.train_images_count\n",
    "        data[\"train_labels_count\"] = self.train_labels_count\n",
    "        data[\"val_images_count\"] = self.val_images_count\n",
    "        data[\"val_labels_count\"] = self.val_labels_count\n",
    "        data[\"total_images_count\"] = self.total_images_count\n",
    "        data[\"total_labels_count\"] = self.total_labels_count\n",
    "        data[\"train_ratio\"] = self.train_ratio\n",
    "        data[\"val_ratio\"] = self.val_ratio\n",
    "        data[\"BG_count\"] = self.BG_count\n",
    "        data = {k: [v] for k, v in data.items()}\n",
    "        return pd.DataFrame(data)\n",
    "    def check_yaml_file(self):\n",
    "        if self.yaml_file.exists():\n",
    "            with open(self.yaml_file, \"r\", encoding=\"utf-8\") as file:\n",
    "                data = yml.safe_load(file)\n",
    "            # Print the contents\n",
    "            if Path(data[\"path\"]).name != self.dataset_name:\n",
    "                print(rf\"yaml file has invalid path Path: {data['path']}\")\n",
    "            elif data[\"train\"] != r\"images/train\":\n",
    "                print(rf\"yaml file has invalid path train: {data['train']}\")\n",
    "            elif data[\"val\"] != r\"images/val\":\n",
    "                print(rf\"yaml file has invalid path val: {data['val']}\")\n",
    "            elif data[\"test\"] != r\"images/val\":\n",
    "                print(rf\"yaml file has invalid path test: {data['test']}\")\n",
    "            elif data[\"names\"] != {0: \"person\"}:\n",
    "                print(rf\"yaml file has invalid names: {data['names']}\")\n",
    "        else:\n",
    "            print(rf\"for {self.dataset_name} yaml file does not exist\")\n",
    "    def check_labels_format(self):\n",
    "        labels_with_invalid_format = []\n",
    "        lebels_with_wrong_class_id = []\n",
    "        for label in self.total_labels:\n",
    "            if os.stat(label).st_size == 0:\n",
    "                os.remove(label)\n",
    "                continue\n",
    "            lines = []\n",
    "            with open(label, \"r\") as file:\n",
    "                lines = file.readlines()\n",
    "            for line in lines:\n",
    "                if len(line.split()) != 5 :\n",
    "                    labels_with_invalid_format.append(label)\n",
    "                elif int(line.split()[0]) != 0:\n",
    "                    lebels_with_wrong_class_id.append(label)\n",
    "        return labels_with_invalid_format, lebels_with_wrong_class_id\n",
    "    def verify_images_and_labels(self):\n",
    "        label_paths = img2label_paths([str(file) for file in self.total_images])\n",
    "        for x, y in tqdm(zip(self.total_images, label_paths), desc=f\"Verifying {self.dataset_name}\", total=len(self.total_images)):\n",
    "                msg = verify_image_label((x, y, x.name, False, 1, 0, 0, True))\n",
    "                if msg[9]:\n",
    "                    print(msg[9])"
   ]
  },
  {
   "cell_type": "markdown",
   "metadata": {},
   "source": [
    "# path to the directory containing the dataset "
   ]
  },
  {
   "cell_type": "code",
   "execution_count": 4,
   "metadata": {},
   "outputs": [],
   "source": [
    "root_dir = Path(r\"E:\\analysis\\Task_cycle\\2025_04_TC04\\datacheck\")\n",
    "datasets = [YOLODataset(sub_dir) for sub_dir in root_dir.iterdir() if sub_dir.is_dir()]\n",
    "datasets_stats = pd.DataFrame()"
   ]
  },
  {
   "cell_type": "markdown",
   "metadata": {},
   "source": [
    "# check dataset stat"
   ]
  },
  {
   "cell_type": "code",
   "execution_count": 5,
   "metadata": {},
   "outputs": [
    {
     "data": {
      "application/vnd.microsoft.datawrangler.viewer.v0+json": {
       "columns": [
        {
         "name": "index",
         "rawType": "int64",
         "type": "integer"
        },
        {
         "name": "dataset_name",
         "rawType": "object",
         "type": "string"
        },
        {
         "name": "train_images_count",
         "rawType": "int64",
         "type": "integer"
        },
        {
         "name": "train_labels_count",
         "rawType": "int64",
         "type": "integer"
        },
        {
         "name": "val_images_count",
         "rawType": "int64",
         "type": "integer"
        },
        {
         "name": "val_labels_count",
         "rawType": "int64",
         "type": "integer"
        },
        {
         "name": "total_images_count",
         "rawType": "int64",
         "type": "integer"
        },
        {
         "name": "total_labels_count",
         "rawType": "int64",
         "type": "integer"
        },
        {
         "name": "train_ratio",
         "rawType": "float64",
         "type": "float"
        },
        {
         "name": "val_ratio",
         "rawType": "float64",
         "type": "float"
        },
        {
         "name": "BG_count",
         "rawType": "int64",
         "type": "integer"
        }
       ],
       "conversionMethod": "pd.DataFrame",
       "ref": "493257d7-5f8b-41b7-bdd5-d52319a35967",
       "rows": [
        [
         "0",
         "2025_04_tc04_dataset_06",
         "28096",
         "28096",
         "3111",
         "3111",
         "31207",
         "31207",
         "0.9003108276989137",
         "0.0996891723010863",
         "0"
        ],
        [
         "1",
         "2025_04_tc04_dataset_09",
         "26894",
         "24619",
         "2746",
         "2746",
         "29640",
         "27365",
         "0.9073549257759784",
         "0.09264507422402159",
         "2275"
        ]
       ],
       "shape": {
        "columns": 10,
        "rows": 2
       }
      },
      "text/html": [
       "<div>\n",
       "<style scoped>\n",
       "    .dataframe tbody tr th:only-of-type {\n",
       "        vertical-align: middle;\n",
       "    }\n",
       "\n",
       "    .dataframe tbody tr th {\n",
       "        vertical-align: top;\n",
       "    }\n",
       "\n",
       "    .dataframe thead th {\n",
       "        text-align: right;\n",
       "    }\n",
       "</style>\n",
       "<table border=\"1\" class=\"dataframe\">\n",
       "  <thead>\n",
       "    <tr style=\"text-align: right;\">\n",
       "      <th></th>\n",
       "      <th>dataset_name</th>\n",
       "      <th>train_images_count</th>\n",
       "      <th>train_labels_count</th>\n",
       "      <th>val_images_count</th>\n",
       "      <th>val_labels_count</th>\n",
       "      <th>total_images_count</th>\n",
       "      <th>total_labels_count</th>\n",
       "      <th>train_ratio</th>\n",
       "      <th>val_ratio</th>\n",
       "      <th>BG_count</th>\n",
       "    </tr>\n",
       "  </thead>\n",
       "  <tbody>\n",
       "    <tr>\n",
       "      <th>0</th>\n",
       "      <td>2025_04_tc04_dataset_06</td>\n",
       "      <td>28096</td>\n",
       "      <td>28096</td>\n",
       "      <td>3111</td>\n",
       "      <td>3111</td>\n",
       "      <td>31207</td>\n",
       "      <td>31207</td>\n",
       "      <td>0.900311</td>\n",
       "      <td>0.099689</td>\n",
       "      <td>0</td>\n",
       "    </tr>\n",
       "    <tr>\n",
       "      <th>1</th>\n",
       "      <td>2025_04_tc04_dataset_09</td>\n",
       "      <td>26894</td>\n",
       "      <td>24619</td>\n",
       "      <td>2746</td>\n",
       "      <td>2746</td>\n",
       "      <td>29640</td>\n",
       "      <td>27365</td>\n",
       "      <td>0.907355</td>\n",
       "      <td>0.092645</td>\n",
       "      <td>2275</td>\n",
       "    </tr>\n",
       "  </tbody>\n",
       "</table>\n",
       "</div>"
      ],
      "text/plain": [
       "              dataset_name  train_images_count  train_labels_count  \\\n",
       "0  2025_04_tc04_dataset_06               28096               28096   \n",
       "1  2025_04_tc04_dataset_09               26894               24619   \n",
       "\n",
       "   val_images_count  val_labels_count  total_images_count  total_labels_count  \\\n",
       "0              3111              3111               31207               31207   \n",
       "1              2746              2746               29640               27365   \n",
       "\n",
       "   train_ratio  val_ratio  BG_count  \n",
       "0     0.900311   0.099689         0  \n",
       "1     0.907355   0.092645      2275  "
      ]
     },
     "metadata": {},
     "output_type": "display_data"
    }
   ],
   "source": [
    "for dataset in datasets:\n",
    "    data = dataset.get_stats()\n",
    "    datasets_stats = pd.concat([datasets_stats, data], ignore_index=True)    \n",
    "display(datasets_stats)"
   ]
  },
  {
   "cell_type": "markdown",
   "metadata": {},
   "source": [
    "# check data.yaml file"
   ]
  },
  {
   "cell_type": "code",
   "execution_count": 6,
   "metadata": {},
   "outputs": [],
   "source": [
    "for dataset in datasets:\n",
    "    dataset.check_yaml_file()"
   ]
  },
  {
   "cell_type": "markdown",
   "metadata": {},
   "source": [
    "# check labels format"
   ]
  },
  {
   "cell_type": "code",
   "execution_count": 7,
   "metadata": {},
   "outputs": [
    {
     "name": "stdout",
     "output_type": "stream",
     "text": [
      "2025_04_tc04_dataset_06\n",
      "([], [])\n",
      "2025_04_tc04_dataset_09\n",
      "([], [])\n"
     ]
    }
   ],
   "source": [
    "errors = []\n",
    "for dataset in datasets:\n",
    "    errors = dataset.check_labels_format()\n",
    "    print(dataset)\n",
    "    print(errors)\n",
    "    # for error in errors[1]:\n",
    "    # # print(error)\n",
    "    #     with open(error, \"r\") as file:\n",
    "    #         lines = file.readlines()\n",
    "    #     mod_lines = []\n",
    "    #     for line in lines:\n",
    "    #         line = line.strip().split()\n",
    "    #         line[0] = \"0\"\n",
    "    #         line = \" \".join(line)\n",
    "    #         mod_lines.append(line+\"\\n\")\n",
    "    #     with open(error, \"w\") as file:\n",
    "    #         file.writelines(mod_lines)"
   ]
  },
  {
   "cell_type": "markdown",
   "metadata": {},
   "source": [
    "# Verify image and label on YOLOv8"
   ]
  },
  {
   "cell_type": "code",
   "execution_count": 8,
   "metadata": {},
   "outputs": [
    {
     "data": {
      "application/vnd.jupyter.widget-view+json": {
       "model_id": "3b405123468048ee94cb8b3afb3312f5",
       "version_major": 2,
       "version_minor": 0
      },
      "text/plain": [
       "Verifying 2025_04_tc04_dataset_06:   0%|          | 0/31207 [00:00<?, ?it/s]"
      ]
     },
     "metadata": {},
     "output_type": "display_data"
    },
    {
     "data": {
      "application/vnd.jupyter.widget-view+json": {
       "model_id": "8475ab9b973b4da99377fd09309a7f9b",
       "version_major": 2,
       "version_minor": 0
      },
      "text/plain": [
       "Verifying 2025_04_tc04_dataset_09:   0%|          | 0/29640 [00:00<?, ?it/s]"
      ]
     },
     "metadata": {},
     "output_type": "display_data"
    },
    {
     "name": "stdout",
     "output_type": "stream",
     "text": [
      "Forklift_POV_cropped_00153.jpgWARNING ⚠️ E:\\analysis\\Task_cycle\\2025_04_TC04\\datacheck\\2025_04_tc04_dataset_09\\images\\train\\Forklift_POV_cropped_00153.jpg: ignoring corrupt image/label: cannot identify image file 'E:\\\\analysis\\\\Task_cycle\\\\2025_04_TC04\\\\datacheck\\\\2025_04_tc04_dataset_09\\\\images\\\\train\\\\Forklift_POV_cropped_00153.jpg'\n",
      "Forklift_POV_cropped_00154.jpgWARNING ⚠️ E:\\analysis\\Task_cycle\\2025_04_TC04\\datacheck\\2025_04_tc04_dataset_09\\images\\train\\Forklift_POV_cropped_00154.jpg: ignoring corrupt image/label: cannot identify image file 'E:\\\\analysis\\\\Task_cycle\\\\2025_04_TC04\\\\datacheck\\\\2025_04_tc04_dataset_09\\\\images\\\\train\\\\Forklift_POV_cropped_00154.jpg'\n",
      "Forklift_POV_cropped_00849.jpgWARNING ⚠️ E:\\analysis\\Task_cycle\\2025_04_TC04\\datacheck\\2025_04_tc04_dataset_09\\images\\train\\Forklift_POV_cropped_00849.jpg: ignoring corrupt image/label: cannot identify image file 'E:\\\\analysis\\\\Task_cycle\\\\2025_04_TC04\\\\datacheck\\\\2025_04_tc04_dataset_09\\\\images\\\\train\\\\Forklift_POV_cropped_00849.jpg'\n"
     ]
    }
   ],
   "source": [
    "for dataset in datasets:\n",
    "    dataset.verify_images_and_labels()"
   ]
  }
 ],
 "metadata": {
  "kernelspec": {
   "display_name": ".env_yolov5",
   "language": "python",
   "name": "python3"
  },
  "language_info": {
   "codemirror_mode": {
    "name": "ipython",
    "version": 3
   },
   "file_extension": ".py",
   "mimetype": "text/x-python",
   "name": "python",
   "nbconvert_exporter": "python",
   "pygments_lexer": "ipython3",
   "version": "3.12.4"
  }
 },
 "nbformat": 4,
 "nbformat_minor": 2
}
