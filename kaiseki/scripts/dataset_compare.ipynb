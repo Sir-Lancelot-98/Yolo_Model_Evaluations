{
 "cells": [
  {
   "cell_type": "markdown",
   "metadata": {},
   "source": [
    "# clustering similar images "
   ]
  },
  {
   "cell_type": "code",
   "execution_count": 3,
   "metadata": {},
   "outputs": [
    {
     "ename": "ValueError",
     "evalue": "all the input arrays must have same number of dimensions, but the array at index 0 has 1 dimension(s) and the array at index 1 has 4 dimension(s)",
     "output_type": "error",
     "traceback": [
      "\u001b[1;31m---------------------------------------------------------------------------\u001b[0m",
      "\u001b[1;31mValueError\u001b[0m                                Traceback (most recent call last)",
      "Cell \u001b[1;32mIn[3], line 26\u001b[0m\n\u001b[0;32m     23\u001b[0m v360_testData \u001b[38;5;241m=\u001b[39m load_images_from_directory(\u001b[38;5;124mr\u001b[39m\u001b[38;5;124m\"\u001b[39m\u001b[38;5;130;01m\\\\\u001b[39;00m\u001b[38;5;124mwsl.localhost\u001b[39m\u001b[38;5;124m\\\u001b[39m\u001b[38;5;124mDebian\u001b[39m\u001b[38;5;124m\\\u001b[39m\u001b[38;5;124mhome\u001b[39m\u001b[38;5;124m\\\u001b[39m\u001b[38;5;124makashanil\u001b[39m\u001b[38;5;124m\\\u001b[39m\u001b[38;5;124mProjects\u001b[39m\u001b[38;5;124m\\\u001b[39m\u001b[38;5;124myolov5_hyouka\u001b[39m\u001b[38;5;124m\\\u001b[39m\u001b[38;5;124mtest_datasets\u001b[39m\u001b[38;5;124m\\\u001b[39m\u001b[38;5;124mnew\u001b[39m\u001b[38;5;124m\\\u001b[39m\u001b[38;5;124mv360_test_dataset\u001b[39m\u001b[38;5;124m\\\u001b[39m\u001b[38;5;124mimages\u001b[39m\u001b[38;5;124m\"\u001b[39m)\n\u001b[0;32m     25\u001b[0m \u001b[38;5;66;03m# Combine the images from both sets for comparison\u001b[39;00m\n\u001b[1;32m---> 26\u001b[0m all_images \u001b[38;5;241m=\u001b[39m \u001b[43mnp\u001b[49m\u001b[38;5;241;43m.\u001b[39;49m\u001b[43mconcatenate\u001b[49m\u001b[43m(\u001b[49m\u001b[43m(\u001b[49m\u001b[43mMix_testData\u001b[49m\u001b[43m,\u001b[49m\u001b[43m \u001b[49m\u001b[43mv360_testData\u001b[49m\u001b[43m)\u001b[49m\u001b[43m)\u001b[49m\n\u001b[0;32m     28\u001b[0m \u001b[38;5;66;03m# Preprocess the images: Flatten the images (turn into 1D vectors)\u001b[39;00m\n\u001b[0;32m     29\u001b[0m all_images_flattened \u001b[38;5;241m=\u001b[39m all_images\u001b[38;5;241m.\u001b[39mreshape(\u001b[38;5;28mlen\u001b[39m(all_images), \u001b[38;5;241m-\u001b[39m\u001b[38;5;241m1\u001b[39m)\n",
      "File \u001b[1;32m<__array_function__ internals>:200\u001b[0m, in \u001b[0;36mconcatenate\u001b[1;34m(*args, **kwargs)\u001b[0m\n",
      "\u001b[1;31mValueError\u001b[0m: all the input arrays must have same number of dimensions, but the array at index 0 has 1 dimension(s) and the array at index 1 has 4 dimension(s)"
     ]
    }
   ],
   "source": [
    "# Import necessary libraries\n",
    "import cv2\n",
    "import numpy as np\n",
    "import matplotlib.pyplot as plt\n",
    "import os\n",
    "from sklearn.cluster import KMeans\n",
    "from sklearn.decomposition import PCA\n",
    "from sklearn.manifold import TSNE\n",
    "\n",
    "# Function to load images from a directory\n",
    "def load_images_from_directory(directory_path, image_size=(64, 64)):\n",
    "    images = []\n",
    "    for filename in os.listdir(directory_path):\n",
    "        img_path = os.path.join(directory_path, filename)\n",
    "        img = cv2.imread(img_path)\n",
    "        if img is not None:\n",
    "            img = cv2.resize(img, image_size)  # Resize to keep dimensions consistent\n",
    "            images.append(img)\n",
    "    return np.array(images)\n",
    "\n",
    "# Load images from two directories\n",
    "Mix_testData = load_images_from_directory(r\"D:\\Model_eval\\test_data\\case\\結合データセット\\images\")\n",
    "v360_testData = load_images_from_directory(r\"\\\\wsl.localhost\\Debian\\home\\akashanil\\Projects\\yolov5_hyouka\\test_datasets\\new\\v360_test_dataset\\images\")\n",
    "\n",
    "# Combine the images from both sets for comparison\n",
    "all_images = np.concatenate((Mix_testData, v360_testData))\n",
    "\n",
    "# Preprocess the images: Flatten the images (turn into 1D vectors)\n",
    "all_images_flattened = all_images.reshape(len(all_images), -1)\n",
    "\n",
    "# Step 1: Apply KMeans Clustering to the flattened images\n",
    "n_clusters = 5  # Number of clusters to group images\n",
    "kmeans = KMeans(n_clusters=n_clusters)\n",
    "kmeans_labels = kmeans.fit_predict(all_images_flattened)\n",
    "\n",
    "# Step 2: Reduce dimensionality with PCA or t-SNE for visualization\n",
    "\n",
    "# Option 1: PCA\n",
    "pca = PCA(n_components=2)\n",
    "images_pca = pca.fit_transform(all_images_flattened)\n",
    "\n",
    "# Option 2: t-SNE (slower but sometimes gives better separation)\n",
    "# tsne = TSNE(n_components=2, perplexity=30, random_state=42)\n",
    "# images_tsne = tsne.fit_transform(all_images_flattened)\n",
    "\n",
    "# Visualize the clusters with PCA\n",
    "plt.figure(figsize=(10, 6))\n",
    "plt.scatter(images_pca[:, 0], images_pca[:, 1], c=kmeans_labels, cmap='viridis')\n",
    "plt.title('Image Clustering with PCA')\n",
    "plt.xlabel('Principal Component 1')\n",
    "plt.ylabel('Principal Component 2')\n",
    "plt.colorbar(label='Cluster')\n",
    "plt.show()\n",
    "\n",
    "# You can repeat the above with t-SNE if you want to compare the difference:\n",
    "# Visualize the clusters with t-SNE\n",
    "# plt.figure(figsize=(10, 6))\n",
    "# plt.scatter(images_tsne[:, 0], images_tsne[:, 1], c=kmeans_labels, cmap='viridis')\n",
    "# plt.title('Image Clustering with t-SNE')\n",
    "# plt.xlabel('t-SNE Component 1')\n",
    "# plt.ylabel('t-SNE Component 2')\n",
    "# plt.colorbar(label='Cluster')\n",
    "# plt.show()\n"
   ]
  }
 ],
 "metadata": {
  "kernelspec": {
   "display_name": "evaluation",
   "language": "python",
   "name": "python3"
  },
  "language_info": {
   "codemirror_mode": {
    "name": "ipython",
    "version": 3
   },
   "file_extension": ".py",
   "mimetype": "text/x-python",
   "name": "python",
   "nbconvert_exporter": "python",
   "pygments_lexer": "ipython3",
   "version": "3.8.10"
  }
 },
 "nbformat": 4,
 "nbformat_minor": 2
}
