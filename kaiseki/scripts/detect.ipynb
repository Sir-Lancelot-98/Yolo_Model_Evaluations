{
 "cells": [
  {
   "cell_type": "code",
   "execution_count": 5,
   "metadata": {},
   "outputs": [
    {
     "name": "stderr",
     "output_type": "stream",
     "text": [
      "\u001b[34m\u001b[1mdetect: \u001b[0mweights=['D:/Akash/Work/AI/GAN/upscale/best.pt'], source=D:/Akash/Work/AI/GAN/upscale/001.png, data=data\\coco128.yaml, imgsz=[640, 640], conf_thres=0.5, iou_thres=0.45, max_det=1000, device=, view_img=False, save_txt=False, save_csv=False, save_conf=False, save_crop=False, nosave=False, classes=None, agnostic_nms=False, augment=False, visualize=False, update=False, project=runs\\detect, name=exp, exist_ok=False, line_thickness=3, hide_labels=False, hide_conf=False, half=False, dnn=False, vid_stride=1\n",
      "YOLOv5  2024-8-5 Python-3.8.10 torch-2.4.1+cu124 CUDA:0 (NVIDIA GeForce GTX 1650, 4096MiB)\n",
      "\n",
      "Traceback (most recent call last):\n",
      "  File \"detect.py\", line 560, in <module>\n",
      "    main(opt)\n",
      "  File \"detect.py\", line 555, in main\n",
      "    run(**vars(opt))\n",
      "  File \"d:\\Akash\\Work\\AI\\model_evaluation_VSCODE\\evaluation\\lib\\site-packages\\torch\\utils\\_contextlib.py\", line 116, in decorate_context\n",
      "    return func(*args, **kwargs)\n",
      "  File \"detect.py\", line 175, in run\n",
      "    model = DetectMultiBackend(weights, device=device, dnn=dnn, data=data, fp16=half)\n",
      "  File \"D:\\Akash\\Work\\AI\\model_evaluation_VSCODE\\yolov5\\models\\common.py\", line 467, in __init__\n",
      "    model = attempt_load(weights if isinstance(weights, list) else w, device=device, inplace=True, fuse=fuse)\n",
      "  File \"D:\\Akash\\Work\\AI\\model_evaluation_VSCODE\\yolov5\\models\\experimental.py\", line 98, in attempt_load\n",
      "    ckpt = torch.load(attempt_download(w), map_location=\"cpu\")  # load\n",
      "  File \"d:\\Akash\\Work\\AI\\model_evaluation_VSCODE\\evaluation\\lib\\site-packages\\ultralytics\\utils\\patches.py\", line 86, in torch_load\n",
      "    return _torch_load(*args, **kwargs)\n",
      "  File \"d:\\Akash\\Work\\AI\\model_evaluation_VSCODE\\evaluation\\lib\\site-packages\\torch\\serialization.py\", line 1097, in load\n",
      "    return _load(\n",
      "  File \"d:\\Akash\\Work\\AI\\model_evaluation_VSCODE\\evaluation\\lib\\site-packages\\torch\\serialization.py\", line 1525, in _load\n",
      "    result = unpickler.load()\n",
      "  File \"C:\\Users\\akash_wrozmxh\\.pyenv\\pyenv-win\\versions\\3.8.10\\lib\\pathlib.py\", line 1044, in __new__\n",
      "    raise NotImplementedError(\"cannot instantiate %r on your system\"\n",
      "NotImplementedError: cannot instantiate 'PosixPath' on your system\n"
     ]
    }
   ],
   "source": [
    "!python detect.py --weights \"D:/Akash/Work/AI/GAN/upscale/best.pt\" --source \"D:/Akash/Work/AI/GAN/upscale/001.png\" --img 640 --conf 0.5"
   ]
  }
 ],
 "metadata": {
  "kernelspec": {
   "display_name": "evaluation",
   "language": "python",
   "name": "python3"
  },
  "language_info": {
   "codemirror_mode": {
    "name": "ipython",
    "version": 3
   },
   "file_extension": ".py",
   "mimetype": "text/x-python",
   "name": "python",
   "nbconvert_exporter": "python",
   "pygments_lexer": "ipython3",
   "version": "3.8.10"
  }
 },
 "nbformat": 4,
 "nbformat_minor": 2
}
